{
 "cells": [
  {
   "cell_type": "markdown",
   "id": "2217e584",
   "metadata": {},
   "source": [
    "# 0. Introdução\n",
    "Vamos fazer \"Revival Course\" de Python para análsie de dados. O curso está divido em 5 blocos, sendo 3 exercícios para fazermos juntos na sala de aula. "
   ]
  },
  {
   "cell_type": "markdown",
   "id": "6667ea15",
   "metadata": {},
   "source": [
    "# 1. Criando Hello World\n",
    "Vamos criar o código do Hello World, onde o Python exibe a mensagem \"Hello World\""
   ]
  },
  {
   "cell_type": "code",
   "execution_count": null,
   "id": "52b2b834",
   "metadata": {},
   "outputs": [],
   "source": [
    "print(\"Hello World\")"
   ]
  },
  {
   "cell_type": "markdown",
   "id": "ea1a6ff4",
   "metadata": {},
   "source": [
    "# 2. Carregando as bibliotecas\n",
    "Vamos criar o código que carrega as bibliotecas básicas no Python para carga de arquivo Excel e as transforma estrutura tabular. "
   ]
  },
  {
   "cell_type": "code",
   "execution_count": null,
   "id": "c525c5f3",
   "metadata": {},
   "outputs": [],
   "source": [
    "import pandas as pd                 # Importando a biblioteca pandas para manipulação de dados em formato tabular (DataFrames)\n",
    "import numpy as np                  # Importando a biblioteca numpy para operações matemáticas e manipulação de arrays\n",
    "import matplotlib.pyplot as plt     # Importando a biblioteca matplotlib para criação de gráficos e visualizações\n",
    "import statsmodels.api as sm        # Importando a biblioteca statsmodels para análise estatística e modelagem econométrica\n",
    "import seaborn as sns               # Importando a biblioteca seaborn para Visualização de dados avançada"
   ]
  },
  {
   "cell_type": "markdown",
   "id": "8db2619a",
   "metadata": {},
   "source": [
    "# 3. Carregando o arquivo Excel\n",
    "Uma boa prática consiste em centralizar em local para promover a carga dos dados para memória, ou seja, a leitura dos arquivos ou conexão com banco de dados, tal como no item (1), também facilita alterações ou manutenções no futuro. \n",
    "\n",
    "No código abaixo, carregamos o arquivo Excel que está remotamente. "
   ]
  },
  {
   "cell_type": "code",
   "execution_count": null,
   "id": "9b6fe5fd",
   "metadata": {},
   "outputs": [],
   "source": [
    "# Carregando o arquivo Excel e armazenando em um DataFrame chamado df\n",
    "df = pd.read_excel(\"salario.xlsx\")"
   ]
  },
  {
   "cell_type": "markdown",
   "id": "c9aa7808",
   "metadata": {},
   "source": [
    "# 4. Analisando os dados\n",
    "Agora vamos analisar os dados que foram importados\n"
   ]
  },
  {
   "cell_type": "markdown",
   "id": "2c9bea36",
   "metadata": {},
   "source": [
    "## 4.1 Identificando a estrutura\n",
    "Uma boa prática para familiarizar com os dados é ver a estrutura do dataframe e até ver uma exemplo dos dados. "
   ]
  },
  {
   "cell_type": "code",
   "execution_count": null,
   "id": "93ad530f",
   "metadata": {},
   "outputs": [],
   "source": [
    "# Exibindo informações sobre a estrutura do DataFrame\n",
    "print(df.info())"
   ]
  },
  {
   "cell_type": "markdown",
   "id": "9d95216a",
   "metadata": {},
   "source": [
    "Temos a seguinte estrutura:\n",
    "\n",
    "* salario (numérico): salário do profissinal\n",
    "* educ (numérico): quantidade de anos de educação formal\n",
    "* anosemp (numérico): quantidade de anos que o profissiona está empregado na empresa\n",
    "* expprev (numérico): quantidade de anos de experiência antes de ser contratado pela empresa\n",
    "* sexo (dummy): gênero do profissional (0) masculino (1) feminino\n",
    "* produtividade (numérico): índice de produtividade do profissional\n",
    "* depto (categórica): código do departamento (1) financeiro (2) administrativo (3) tecnologia (4) operação"
   ]
  },
  {
   "cell_type": "code",
   "execution_count": null,
   "id": "a674b70c",
   "metadata": {},
   "outputs": [],
   "source": [
    "# Exibindo as primeiras linhas do DataFrame para visualizar um exemplo dos dados\n",
    "print(df.head())"
   ]
  },
  {
   "cell_type": "markdown",
   "id": "a97147c4",
   "metadata": {},
   "source": [
    "## 4.2 Descritivas\n",
    "As análises descritivas são essenciais para entender o comportamento dos dados. \n",
    "\n",
    "Média, mediana, desvio-padrão são alguns exemplos de descritivas estatísticas. "
   ]
  },
  {
   "cell_type": "markdown",
   "id": "e1dce48d",
   "metadata": {},
   "source": [
    "### 4.2.1 Exemplo\n",
    "\n",
    "Exibindo as estastíticas descritivas mais simples."
   ]
  },
  {
   "cell_type": "code",
   "execution_count": null,
   "id": "563706d7",
   "metadata": {},
   "outputs": [],
   "source": [
    "# Exibindo estatísticas descritivas: média, desvio-padrão, minimo, máximo, etc.\n",
    "print(\"Estatísticas Descritivas:\")\n",
    "print(df.describe())"
   ]
  },
  {
   "cell_type": "markdown",
   "id": "9bc36a76",
   "metadata": {},
   "source": [
    "### 4.2.2 Prática - Usando o AI para exibir estatísticas descritivas\n",
    "\n",
    "Agora vamos fazer uma prática juntos, vamos pedir a AI para gerar as estatísticas descritivas do campo salario. \n",
    "\n",
    "Cabe esclarecer que o AI Generativa ou GenAI pode gerar códigos diferentes a depender do modelo utilizado, por isto é fundamenta prestar atençaõ ao código gerado se realmente fará o que está esperando."
   ]
  },
  {
   "cell_type": "markdown",
   "id": "2e52a6cc",
   "metadata": {},
   "source": [
    "Use o seguinte prompt **Gere as estatisticas descritivas de media, mediana, desviopadrao, minimo, maximo, variancia da coluna salario**"
   ]
  },
  {
   "cell_type": "code",
   "execution_count": null,
   "id": "391fa45d",
   "metadata": {},
   "outputs": [],
   "source": [
    "# Gere o Codigo aqui"
   ]
  },
  {
   "cell_type": "markdown",
   "id": "12a99f74",
   "metadata": {},
   "source": [
    "## 4.3 Gráficos\n",
    "Além das análises descritivas, explorar gráficos também auxiliam no entendimento do comportamento dos dados. "
   ]
  },
  {
   "cell_type": "markdown",
   "id": "9dc08c89",
   "metadata": {},
   "source": [
    "### 4.3.1 - Exemplos"
   ]
  },
  {
   "cell_type": "markdown",
   "id": "3f71b62e",
   "metadata": {},
   "source": [
    "#### 4.3.1.1 Histograma\n",
    "O histograma é um gráfico que exibe a distribuição do dado em faixas exibindo os pontos de maior e menor intensidade."
   ]
  },
  {
   "cell_type": "code",
   "execution_count": null,
   "id": "3a25a1d6",
   "metadata": {},
   "outputs": [],
   "source": [
    "plt.hist(df['produtividade'], bins=10, edgecolor='black')\n",
    "plt.xlabel('Produtividade')\n",
    "plt.ylabel('Frequência')\n",
    "plt.title('Histograma da Produtividade')\n",
    "plt.show()"
   ]
  },
  {
   "cell_type": "markdown",
   "id": "deee4627",
   "metadata": {},
   "source": [
    "#### 4.3.1.2 Dispersão\n",
    "O gráfico de dispersão permite ver a relação em duas dimensões de duas variáveis, o qual auxilia a identificação de correlações entre as variáveis.\n",
    "\n",
    "Um exemplo de fazer um gráfico de dispersão entre **anos de educação formal** e **salario**. "
   ]
  },
  {
   "cell_type": "code",
   "execution_count": null,
   "id": "94247c49",
   "metadata": {},
   "outputs": [],
   "source": [
    "plt.scatter(df['educ'], df['salario'])\n",
    "plt.xlabel('Anos de Educação')\n",
    "plt.ylabel('Salário')\n",
    "plt.title('Dispersão entre Salário e Anos de Educação')\n",
    "plt.show()"
   ]
  },
  {
   "cell_type": "markdown",
   "id": "42f34d57",
   "metadata": {},
   "source": [
    "#### 4.3.1.3 Pizza por Departamento\n",
    "\n",
    "Vejamos agora outro gráfico possível para auxiliar no entendimento dos dados. "
   ]
  },
  {
   "cell_type": "code",
   "execution_count": null,
   "id": "eea78323",
   "metadata": {},
   "outputs": [],
   "source": [
    "# Gráfico de pizza da distribuição de departamentos\n",
    "plt.figure(figsize=(8, 6))                                              # Ajuste o tamanho da figura conforme necessário\n",
    "df['dept'].value_counts().plot(kind='pie', autopct='%1.1f%%')\n",
    "plt.title('Distribuição de Departamento')\n",
    "plt.ylabel('')                                                          # Remove o rótulo do eixo y\n",
    "plt.show()"
   ]
  },
  {
   "cell_type": "markdown",
   "id": "b21d8e8a",
   "metadata": {},
   "source": [
    "#### 4.3.1.4 Pizza distribuição gênero no departamento de Tecnologia\n",
    "\n",
    "Vejamos agora como o departamento de Tecnologia tem a sua distirbuição entre homens e mulheres. "
   ]
  },
  {
   "cell_type": "code",
   "execution_count": null,
   "id": "0a3068f5",
   "metadata": {},
   "outputs": [],
   "source": [
    "# Gráfico de pizza da distribuição de gênero no departamento de Tecnologia\n",
    "plt.figure(figsize=(8, 6))                                              # Ajuste o tamanho da figura conforme necessário\n",
    "df[df['dept'] == 3]['sexo'].value_counts().plot(kind='pie', autopct='%1.1f%%')\n",
    "plt.title('Distribuição de gênero no departamento de Tecnologia')\n",
    "plt.ylabel('')                                                          # Remove o rótulo do eixo y\n",
    "plt.show()"
   ]
  },
  {
   "cell_type": "markdown",
   "id": "588cdfaf",
   "metadata": {},
   "source": [
    "#### 4.3.1.5 Dispersão avançada\n",
    "\n",
    "vamos verificar também se há alguma relação com outras variáveis independentes"
   ]
  },
  {
   "cell_type": "code",
   "execution_count": null,
   "id": "287ee5a9",
   "metadata": {},
   "outputs": [],
   "source": [
    "sns.pairplot(df, hue='salario', vars=['educ', 'expprev', 'produtividade'])\n",
    "plt.show()"
   ]
  },
  {
   "cell_type": "markdown",
   "id": "54cd3de3",
   "metadata": {},
   "source": [
    "### 4.3.2 Práticas\n",
    "\n",
    "Fazer gráfico sempre é um processo desgastante, por isto uma boa técnica é uso de GenAI para gerar os gráficos. "
   ]
  },
  {
   "cell_type": "markdown",
   "id": "956dd8c2",
   "metadata": {},
   "source": [
    "#### 4.3.2.1 Prática"
   ]
  },
  {
   "cell_type": "markdown",
   "id": "a4457789",
   "metadata": {},
   "source": [
    "Use o seguinte prompt **Gere um grafico fazendo a relação entre salario e produtividade por genero**"
   ]
  },
  {
   "cell_type": "code",
   "execution_count": null,
   "id": "cced6a01",
   "metadata": {},
   "outputs": [],
   "source": [
    "# Gere o Codigo aqui"
   ]
  },
  {
   "cell_type": "markdown",
   "id": "069a3d02",
   "metadata": {},
   "source": [
    "# 5. Modelos\n",
    "Os modelos econométricos são ferramentas que usam matemática e estatística para entender e medir as relações entre variáveis. Em outras palavras, servem para transformar teorias em números, mostrando como um fator influencia outro e ajudando a explicar ou prever resultados."
   ]
  },
  {
   "cell_type": "markdown",
   "id": "39671571",
   "metadata": {
    "vscode": {
     "languageId": "ini"
    }
   },
   "source": [
    "A relação entre as variáveis pode ser expressa da seguinte forma:\n",
    "\n",
    "Y = β₀ + β₁X + ε\n",
    "\n",
    "Onde:\n",
    "- **Y** é a variável dependente (resultado que queremos explicar ou prever).\n",
    "- **X** é a variável independente (fator que acreditamos influenciar Y).\n",
    "- **β₀** é o intercepto (valor de Y quando X é zero).\n",
    "- **β₁** é o coeficiente que mede o quanto Y varia para cada unidade de variação em X.\n",
    "- **ε** é o termo de erro (representa outros fatores não observados que afetam Y).\n",
    "\n",
    "Essa equação mostra que a variável Y é influenciada linearmente pela variável X."
   ]
  },
  {
   "cell_type": "markdown",
   "id": "a6d5823a",
   "metadata": {},
   "source": [
    "## 5.1 Exemplos"
   ]
  },
  {
   "cell_type": "markdown",
   "id": "c7b82ef8",
   "metadata": {},
   "source": [
    "### 5.1.1 Executando o modelo"
   ]
  },
  {
   "cell_type": "markdown",
   "id": "f6d9fcab",
   "metadata": {},
   "source": [
    "Vamos considerar que desejamos saber a relação entre a quantidade dos anos de educação formal sobre o salário, desta forma a nossa equação seria:\n",
    "\n",
    "salario = β₀ + β₁educ + ε\n",
    "\n",
    "Onde:\n",
    "- **salario**: *valor do salario* em USD do salario\n",
    "- **educ**: *anos de educação formal*\n",
    "- **β₀** é o intercepto (*valor de salario* quando *anos de educação* é zero).\n",
    "- **β₁** é o coeficiente que mede o quanto *valor do salario* varia para cada *ano de educação formal*.\n",
    "- **ε** é o termo de erro (representa outros fatores não observados que afetam *valor do salario*).\n"
   ]
  },
  {
   "cell_type": "code",
   "execution_count": null,
   "id": "305f4ad5",
   "metadata": {},
   "outputs": [],
   "source": [
    "# Definindo as variáveis dependente e independente\n",
    "X = df['educ']  # anos de educação (variável independente)\n",
    "y = df['salario']  # salário (variável dependente)\n",
    "\n",
    "# Adicionando constante para o intercepto\n",
    "X_const = sm.add_constant(X)\n",
    "\n",
    "# Ajustando o modelo de regressão linear\n",
    "modelo = sm.OLS(y, X_const).fit()\n",
    "\n",
    "# Exibindo o resumo dos resultados do modelo\n",
    "print(modelo.summary())"
   ]
  },
  {
   "cell_type": "markdown",
   "id": "66927cc7",
   "metadata": {},
   "source": [
    "### 5.1.2 Previsão\n",
    "\n",
    "Com base no modelo criado entre salário e anos de educação formal, gostaríamos de fazer uma previsão quando o empregado tiver 10 anos. "
   ]
  },
  {
   "cell_type": "code",
   "execution_count": null,
   "id": "8b6a77d9",
   "metadata": {},
   "outputs": [],
   "source": [
    "anos_educ = 10\n",
    "\n",
    "# Monta o exog novo\n",
    "novos_dados = pd.DataFrame({'educ': [anos_educ]}).astype(float)\n",
    "X_novo = sm.add_constant(novos_dados, has_constant='add')\n",
    "\n",
    "# Reordena as colunas para bater com o treino\n",
    "X_novo = X_novo[modelo.model.exog_names]  # ex.: ['const', 'educ']\n",
    "\n",
    "# Previsão pontual\n",
    "salario_previsto = modelo.predict(X_novo)\n",
    "print(f\"Salário previsto para {anos_educ} anos de educação formal: USD {salario_previsto.iloc[0]:.2f}\")\n"
   ]
  },
  {
   "cell_type": "markdown",
   "id": "192d9373",
   "metadata": {},
   "source": [
    "# 6. Exercícios\n",
    "\n",
    "Agora vocês terão alguns exercícios para serm feitos.\n",
    "\n",
    "Ao final, publique o arquivo do Python dentro do Blackboard para avaliação."
   ]
  },
  {
   "cell_type": "markdown",
   "id": "b269143c",
   "metadata": {},
   "source": [
    "## 6.1 Exercício 01 - Gráfico\n",
    "\n",
    "Fazer um gráfico como você preferir (pizza, barra, linha), comparando a média salarial de homens e mulheres."
   ]
  },
  {
   "cell_type": "code",
   "execution_count": null,
   "id": "2ddc9067",
   "metadata": {},
   "outputs": [],
   "source": [
    "# Insira o seu código aqui"
   ]
  },
  {
   "cell_type": "markdown",
   "id": "76bef6fa",
   "metadata": {},
   "source": [
    "## 6.2 Exercício 02 - Manipulando os dados\n",
    "\n",
    "Calcule o índice médio de produtividade dos departamentos de tecnologia e administrativo. "
   ]
  },
  {
   "cell_type": "code",
   "execution_count": null,
   "id": "0168106a",
   "metadata": {},
   "outputs": [],
   "source": [
    "# Insira o seu código aqui"
   ]
  },
  {
   "cell_type": "markdown",
   "id": "8f06a666",
   "metadata": {},
   "source": [
    "## 6.3 Exercício 03 - Modelando\n",
    "\n",
    "Crie um modelo onde estuda os efeitos do salário, experiência e anos de educação sobre a produtividade dos profissionais. Inclua uma explicação sobre os efeitos significativos e elasticidade dos dados. "
   ]
  },
  {
   "cell_type": "code",
   "execution_count": null,
   "id": "8ea2bdf5",
   "metadata": {},
   "outputs": [],
   "source": [
    "# Insira o seu código aqui"
   ]
  }
 ],
 "metadata": {
  "kernelspec": {
   "display_name": "myenv_py312",
   "language": "python",
   "name": "python3"
  },
  "language_info": {
   "codemirror_mode": {
    "name": "ipython",
    "version": 3
   },
   "file_extension": ".py",
   "mimetype": "text/x-python",
   "name": "python",
   "nbconvert_exporter": "python",
   "pygments_lexer": "ipython3",
   "version": "3.12.11"
  }
 },
 "nbformat": 4,
 "nbformat_minor": 5
}
